{
 "cells": [
  {
   "cell_type": "code",
   "execution_count": 37,
   "id": "c402bd90",
   "metadata": {},
   "outputs": [
    {
     "name": "stdout",
     "output_type": "stream",
     "text": [
      "Original Vector :-  [0. 0. 0. 0. 0. 0. 0. 0. 0. 0.]\n",
      " New Vector :- [0. 0. 0. 0. 1. 0. 0. 0. 0. 0.]\n"
     ]
    }
   ],
   "source": [
    "# 1. Create a null vector of size 10 but the fifth value which is 1.\n",
    "import numpy as np\n",
    "x = np.zeros(10)\n",
    "print(\"Original Vector :- \",x)\n",
    "x[4] = 1\n",
    "print(\" New Vector :-\",x)\n",
    "\n"
   ]
  },
  {
   "cell_type": "code",
   "execution_count": 38,
   "id": "1c6724e4",
   "metadata": {},
   "outputs": [
    {
     "name": "stdout",
     "output_type": "stream",
     "text": [
      "Created Vector is :- [10 11 12 13 14 15 16 17 18 19 20 21 22 23 24 25 26 27 28 29 30 31 32 33\n",
      " 34 35 36 37 38 39 40 41 42 43 44 45 46 47 48 49]\n"
     ]
    }
   ],
   "source": [
    "# 2. Create a vector with values ranging from 10 to 49.\n",
    "import numpy as np\n",
    "y = np.arange(10,50)\n",
    "print(\"Created Vector is :-\", y)\n"
   ]
  },
  {
   "cell_type": "code",
   "execution_count": 39,
   "id": "517e773b",
   "metadata": {},
   "outputs": [
    {
     "data": {
      "text/plain": [
       "array([[2, 1, 0],\n",
       "       [3, 2, 4],\n",
       "       [1, 4, 2]])"
      ]
     },
     "execution_count": 39,
     "metadata": {},
     "output_type": "execute_result"
    }
   ],
   "source": [
    "# 3. Create a 3x3 matrix with values ranging from 0 to 8\n",
    "import numpy as np\n",
    "np.random.randint(0,8,(3,3))\n"
   ]
  },
  {
   "cell_type": "code",
   "execution_count": 40,
   "id": "a53ca0f5",
   "metadata": {},
   "outputs": [
    {
     "name": "stdout",
     "output_type": "stream",
     "text": [
      "non-zero elements :- (array([0, 1, 4], dtype=int64),)\n"
     ]
    }
   ],
   "source": [
    "# 4. Find indices of non-zero elements from [1,2,0,0,4,0]\n",
    "import numpy as np\n",
    "arr = np.array([1,2,0,0,4,0])\n",
    "nzero= arr.nonzero()\n",
    "print(\"non-zero elements :-\",nzero)\n"
   ]
  },
  {
   "cell_type": "code",
   "execution_count": 41,
   "id": "00169ae5",
   "metadata": {},
   "outputs": [
    {
     "name": "stdout",
     "output_type": "stream",
     "text": [
      "Original array :- [[28 15 66 29 34 83  6 67 74 17]\n",
      " [58 98 99 25 47 32 10 14 75 96]\n",
      " [17 89 57  1 16  6  7 45 67 86]\n",
      " [18 86 57 81 59 34 22 89  2 80]\n",
      " [26 61 26 24 32  4 66 33 31  2]\n",
      " [40 51 60 33 91 16 19 78 11 73]\n",
      " [54 82 69 47 28 69 39 28 71 62]\n",
      " [21 15 70 93  2 52 79 64  9 33]\n",
      " [13 82 70 97 78 25 70  1 85  3]\n",
      " [31 56 39 74 10 64 64 37 83 40]]\n",
      "maximum :- 99\n",
      "minimum :- 1\n"
     ]
    }
   ],
   "source": [
    "# 5. Create a 10x10 array with random values and find the minimum and maximum values.\n",
    "import numpy as np\n",
    "a = np.random.randint(100,size=(10,10))\n",
    "print('Original array :-',a)\n",
    "print('maximum :-',a.max())\n",
    "print('minimum :-',a.min())"
   ]
  },
  {
   "cell_type": "code",
   "execution_count": 36,
   "id": "ad31ddd9",
   "metadata": {},
   "outputs": [
    {
     "name": "stdout",
     "output_type": "stream",
     "text": [
      "Random vector  :- [26 39 43 11  3 42 20 33  3 16  6 48 45 20 49  5 40 42 44 40 34 10  2  1\n",
      " 24 29 41 15  4 19]\n",
      "Mean value of the vector :- 25.133333333333333\n"
     ]
    }
   ],
   "source": [
    "# 6. Create a random vector of size 30 and find the mean value.\n",
    "import numpy as np\n",
    "\n",
    "random_vector = np.random.randint(1,50,30)\n",
    "\n",
    "mean_value = np.mean(random_vector)\n",
    "\n",
    "print(\"Random vector  :-\", random_vector)\n",
    "print(\"Mean value of the vector :-\", mean_value)"
   ]
  },
  {
   "cell_type": "code",
   "execution_count": null,
   "id": "c08990ba",
   "metadata": {},
   "outputs": [],
   "source": []
  }
 ],
 "metadata": {
  "kernelspec": {
   "display_name": "Python 3 (ipykernel)",
   "language": "python",
   "name": "python3"
  },
  "language_info": {
   "codemirror_mode": {
    "name": "ipython",
    "version": 3
   },
   "file_extension": ".py",
   "mimetype": "text/x-python",
   "name": "python",
   "nbconvert_exporter": "python",
   "pygments_lexer": "ipython3",
   "version": "3.9.13"
  }
 },
 "nbformat": 4,
 "nbformat_minor": 5
}
